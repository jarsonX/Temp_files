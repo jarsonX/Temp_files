{
 "cells": [
  {
   "cell_type": "code",
   "execution_count": 116,
   "metadata": {},
   "outputs": [],
   "source": [
    "import pandas as pd"
   ]
  },
  {
   "cell_type": "code",
   "execution_count": 117,
   "metadata": {},
   "outputs": [],
   "source": [
    "df = pd.read_csv(\"survey_data_cleaned_ver2.csv\")"
   ]
  },
  {
   "cell_type": "code",
   "execution_count": 124,
   "metadata": {},
   "outputs": [],
   "source": [
    "def transform_df(df, list_2, column_2, list_1, column_1='Respondent'): \n",
    "\n",
    "    for ind in df.index:\n",
    "    \n",
    "        elements = df[column_2][ind].split(';')\n",
    "        num_of_elements = len(elements)\n",
    "\n",
    "        for num in range(num_of_elements):\n",
    "            list_1.append(df['Respondent'][ind])\n",
    "\n",
    "        for el in elements:\n",
    "            list_2.append(el)"
   ]
  },
  {
   "cell_type": "code",
   "execution_count": 119,
   "metadata": {},
   "outputs": [
    {
     "name": "stderr",
     "output_type": "stream",
     "text": [
      "C:\\Users\\krzys\\AppData\\Local\\Temp\\ipykernel_15232\\492316157.py:2: SettingWithCopyWarning: \n",
      "A value is trying to be set on a copy of a slice from a DataFrame\n",
      "\n",
      "See the caveats in the documentation: https://pandas.pydata.org/pandas-docs/stable/user_guide/indexing.html#returning-a-view-versus-a-copy\n",
      "  df_LanguageWorkedWith.dropna(subset='LanguageWorkedWith', inplace=True)\n"
     ]
    },
    {
     "data": {
      "text/html": [
       "<div>\n",
       "<style scoped>\n",
       "    .dataframe tbody tr th:only-of-type {\n",
       "        vertical-align: middle;\n",
       "    }\n",
       "\n",
       "    .dataframe tbody tr th {\n",
       "        vertical-align: top;\n",
       "    }\n",
       "\n",
       "    .dataframe thead th {\n",
       "        text-align: right;\n",
       "    }\n",
       "</style>\n",
       "<table border=\"1\" class=\"dataframe\">\n",
       "  <thead>\n",
       "    <tr style=\"text-align: right;\">\n",
       "      <th></th>\n",
       "      <th>Respondent</th>\n",
       "      <th>LanguageWorkedWith</th>\n",
       "    </tr>\n",
       "  </thead>\n",
       "  <tbody>\n",
       "    <tr>\n",
       "      <th>0</th>\n",
       "      <td>4</td>\n",
       "      <td>C;C++;C#;Python;SQL</td>\n",
       "    </tr>\n",
       "    <tr>\n",
       "      <th>1</th>\n",
       "      <td>9</td>\n",
       "      <td>Bash/Shell/PowerShell;C#;HTML/CSS;JavaScript;P...</td>\n",
       "    </tr>\n",
       "    <tr>\n",
       "      <th>2</th>\n",
       "      <td>13</td>\n",
       "      <td>Bash/Shell/PowerShell;HTML/CSS;JavaScript;PHP;...</td>\n",
       "    </tr>\n",
       "    <tr>\n",
       "      <th>3</th>\n",
       "      <td>17</td>\n",
       "      <td>Bash/Shell/PowerShell;HTML/CSS;JavaScript;Type...</td>\n",
       "    </tr>\n",
       "    <tr>\n",
       "      <th>4</th>\n",
       "      <td>19</td>\n",
       "      <td>C#;HTML/CSS;Java;JavaScript;SQL;TypeScript</td>\n",
       "    </tr>\n",
       "    <tr>\n",
       "      <th>...</th>\n",
       "      <td>...</td>\n",
       "      <td>...</td>\n",
       "    </tr>\n",
       "    <tr>\n",
       "      <th>10315</th>\n",
       "      <td>25136</td>\n",
       "      <td>C#;F#;HTML/CSS;Java;JavaScript;SQL</td>\n",
       "    </tr>\n",
       "    <tr>\n",
       "      <th>10316</th>\n",
       "      <td>25137</td>\n",
       "      <td>HTML/CSS;JavaScript;PHP;SQL</td>\n",
       "    </tr>\n",
       "    <tr>\n",
       "      <th>10317</th>\n",
       "      <td>25138</td>\n",
       "      <td>Assembly;Bash/Shell/PowerShell;C;C++;C#;Java;J...</td>\n",
       "    </tr>\n",
       "    <tr>\n",
       "      <th>10318</th>\n",
       "      <td>25141</td>\n",
       "      <td>Bash/Shell/PowerShell;C++;C#;HTML/CSS;Java;Jav...</td>\n",
       "    </tr>\n",
       "    <tr>\n",
       "      <th>10319</th>\n",
       "      <td>25142</td>\n",
       "      <td>Bash/Shell/PowerShell;C;C++;Go;HTML/CSS;PHP;Py...</td>\n",
       "    </tr>\n",
       "  </tbody>\n",
       "</table>\n",
       "<p>10310 rows × 2 columns</p>\n",
       "</div>"
      ],
      "text/plain": [
       "       Respondent                                 LanguageWorkedWith\n",
       "0               4                                C;C++;C#;Python;SQL\n",
       "1               9  Bash/Shell/PowerShell;C#;HTML/CSS;JavaScript;P...\n",
       "2              13  Bash/Shell/PowerShell;HTML/CSS;JavaScript;PHP;...\n",
       "3              17  Bash/Shell/PowerShell;HTML/CSS;JavaScript;Type...\n",
       "4              19         C#;HTML/CSS;Java;JavaScript;SQL;TypeScript\n",
       "...           ...                                                ...\n",
       "10315       25136                 C#;F#;HTML/CSS;Java;JavaScript;SQL\n",
       "10316       25137                        HTML/CSS;JavaScript;PHP;SQL\n",
       "10317       25138  Assembly;Bash/Shell/PowerShell;C;C++;C#;Java;J...\n",
       "10318       25141  Bash/Shell/PowerShell;C++;C#;HTML/CSS;Java;Jav...\n",
       "10319       25142  Bash/Shell/PowerShell;C;C++;Go;HTML/CSS;PHP;Py...\n",
       "\n",
       "[10310 rows x 2 columns]"
      ]
     },
     "execution_count": 119,
     "metadata": {},
     "output_type": "execute_result"
    }
   ],
   "source": [
    "df_LanguageWorkedWith = df[['Respondent', 'LanguageWorkedWith']]\n",
    "df_LanguageWorkedWith.dropna(subset='LanguageWorkedWith', inplace=True)\n",
    "df_LanguageWorkedWith"
   ]
  },
  {
   "cell_type": "code",
   "execution_count": 120,
   "metadata": {},
   "outputs": [],
   "source": [
    "Respondent_As_List = []\n",
    "LanguageWorkedWith_As_List = []"
   ]
  },
  {
   "cell_type": "code",
   "execution_count": 121,
   "metadata": {},
   "outputs": [],
   "source": [
    "transform_df(df_LanguageWorkedWith, LanguageWorkedWith_As_List, 'LanguageWorkedWith', Respondent_As_List)"
   ]
  },
  {
   "cell_type": "code",
   "execution_count": 122,
   "metadata": {},
   "outputs": [
    {
     "data": {
      "text/html": [
       "<div>\n",
       "<style scoped>\n",
       "    .dataframe tbody tr th:only-of-type {\n",
       "        vertical-align: middle;\n",
       "    }\n",
       "\n",
       "    .dataframe tbody tr th {\n",
       "        vertical-align: top;\n",
       "    }\n",
       "\n",
       "    .dataframe thead th {\n",
       "        text-align: right;\n",
       "    }\n",
       "</style>\n",
       "<table border=\"1\" class=\"dataframe\">\n",
       "  <thead>\n",
       "    <tr style=\"text-align: right;\">\n",
       "      <th></th>\n",
       "      <th>Respondent</th>\n",
       "      <th>LanguageWorkedWith</th>\n",
       "    </tr>\n",
       "  </thead>\n",
       "  <tbody>\n",
       "    <tr>\n",
       "      <th>0</th>\n",
       "      <td>4</td>\n",
       "      <td>C</td>\n",
       "    </tr>\n",
       "    <tr>\n",
       "      <th>1</th>\n",
       "      <td>4</td>\n",
       "      <td>C++</td>\n",
       "    </tr>\n",
       "    <tr>\n",
       "      <th>2</th>\n",
       "      <td>4</td>\n",
       "      <td>C#</td>\n",
       "    </tr>\n",
       "    <tr>\n",
       "      <th>3</th>\n",
       "      <td>4</td>\n",
       "      <td>Python</td>\n",
       "    </tr>\n",
       "    <tr>\n",
       "      <th>4</th>\n",
       "      <td>4</td>\n",
       "      <td>SQL</td>\n",
       "    </tr>\n",
       "    <tr>\n",
       "      <th>...</th>\n",
       "      <td>...</td>\n",
       "      <td>...</td>\n",
       "    </tr>\n",
       "    <tr>\n",
       "      <th>53948</th>\n",
       "      <td>25142</td>\n",
       "      <td>Go</td>\n",
       "    </tr>\n",
       "    <tr>\n",
       "      <th>53949</th>\n",
       "      <td>25142</td>\n",
       "      <td>HTML/CSS</td>\n",
       "    </tr>\n",
       "    <tr>\n",
       "      <th>53950</th>\n",
       "      <td>25142</td>\n",
       "      <td>PHP</td>\n",
       "    </tr>\n",
       "    <tr>\n",
       "      <th>53951</th>\n",
       "      <td>25142</td>\n",
       "      <td>Python</td>\n",
       "    </tr>\n",
       "    <tr>\n",
       "      <th>53952</th>\n",
       "      <td>25142</td>\n",
       "      <td>R</td>\n",
       "    </tr>\n",
       "  </tbody>\n",
       "</table>\n",
       "<p>53953 rows × 2 columns</p>\n",
       "</div>"
      ],
      "text/plain": [
       "       Respondent LanguageWorkedWith\n",
       "0               4                  C\n",
       "1               4                C++\n",
       "2               4                 C#\n",
       "3               4             Python\n",
       "4               4                SQL\n",
       "...           ...                ...\n",
       "53948       25142                 Go\n",
       "53949       25142           HTML/CSS\n",
       "53950       25142                PHP\n",
       "53951       25142             Python\n",
       "53952       25142                  R\n",
       "\n",
       "[53953 rows x 2 columns]"
      ]
     },
     "execution_count": 122,
     "metadata": {},
     "output_type": "execute_result"
    }
   ],
   "source": [
    "df_Respondent = pd.DataFrame(Respondent_As_List, columns=[\"Respondent\"])\n",
    "df_LanguageWorked = pd.DataFrame(LanguageWorkedWith_As_List, columns=[\"LanguageWorkedWith\"])\n",
    "\n",
    "df_LanguageWorkedWith_final = pd.concat([df_Respondent, df_LanguageWorked], axis=1)\n",
    "df_LanguageWorkedWith_final"
   ]
  }
 ],
 "metadata": {
  "kernelspec": {
   "display_name": "Python 3.10.5 ('venv': venv)",
   "language": "python",
   "name": "python3"
  },
  "language_info": {
   "codemirror_mode": {
    "name": "ipython",
    "version": 3
   },
   "file_extension": ".py",
   "mimetype": "text/x-python",
   "name": "python",
   "nbconvert_exporter": "python",
   "pygments_lexer": "ipython3",
   "version": "3.10.5"
  },
  "orig_nbformat": 4,
  "vscode": {
   "interpreter": {
    "hash": "16ee1db4c058d5c272f4c883d201aeaa1339736584614d18f3fd0d81abffbc97"
   }
  }
 },
 "nbformat": 4,
 "nbformat_minor": 2
}
